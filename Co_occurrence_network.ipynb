{
  "nbformat": 4,
  "nbformat_minor": 0,
  "metadata": {
    "colab": {
      "name": "Co-occurrence network",
      "provenance": [],
      "collapsed_sections": [],
      "authorship_tag": "ABX9TyM2cUNVhCjVu0z9atOTLOTx",
      "include_colab_link": true
    },
    "kernelspec": {
      "name": "python3",
      "display_name": "Python 3"
    }
  },
  "cells": [
    {
      "cell_type": "markdown",
      "metadata": {
        "id": "view-in-github",
        "colab_type": "text"
      },
      "source": [
        "<a href=\"https://colab.research.google.com/github/x1001000/books-chinese-networkx/blob/main/Co_occurrence_network.ipynb\" target=\"_parent\"><img src=\"https://colab.research.google.com/assets/colab-badge.svg\" alt=\"Open In Colab\"/></a>"
      ]
    },
    {
      "cell_type": "code",
      "metadata": {
        "id": "3-ZkFC_WY-Kf",
        "outputId": "c8b0dd0c-a7d8-4373-fc7d-81587df2c06d",
        "colab": {
          "base_uri": "https://localhost:8080/"
        }
      },
      "source": [
        "# 下載博客來中文書各分類 csv 檔\n",
        "! git clone https://github.com/x1001000/books-chinese-networkx"
      ],
      "execution_count": 1,
      "outputs": [
        {
          "output_type": "stream",
          "text": [
            "Cloning into 'books-chinese-networkx'...\n",
            "remote: Enumerating objects: 21, done.\u001b[K\n",
            "remote: Counting objects: 100% (21/21), done.\u001b[K\n",
            "remote: Compressing objects: 100% (21/21), done.\u001b[K\n",
            "remote: Total 986 (delta 7), reused 0 (delta 0), pack-reused 965\u001b[K\n",
            "Receiving objects: 100% (986/986), 66.76 MiB | 15.07 MiB/s, done.\n",
            "Resolving deltas: 100% (18/18), done.\n",
            "Checking out files: 100% (966/966), done.\n"
          ],
          "name": "stdout"
        }
      ]
    },
    {
      "cell_type": "code",
      "metadata": {
        "id": "vTnJGhZdFgr_",
        "outputId": "6336dd7c-2dae-4ee1-baaf-5aacf2b69077",
        "colab": {
          "base_uri": "https://localhost:8080/"
        }
      },
      "source": [
        "# 解決 networkx 繪圖無法顯示中文問題\n",
        "! wget https://github.com/googlefonts/noto-cjk/raw/master/NotoSansCJK-Regular.ttc\n",
        "! cp NotoSansCJK-Regular.ttc /usr/local/lib/python3.6/dist-packages/matplotlib/mpl-data/fonts/ttf/DejaVuSans.ttf"
      ],
      "execution_count": 2,
      "outputs": [
        {
          "output_type": "stream",
          "text": [
            "--2020-11-12 21:23:01--  https://github.com/googlefonts/noto-cjk/raw/master/NotoSansCJK-Regular.ttc\n",
            "Resolving github.com (github.com)... 52.192.72.89\n",
            "Connecting to github.com (github.com)|52.192.72.89|:443... connected.\n",
            "HTTP request sent, awaiting response... 302 Found\n",
            "Location: https://raw.githubusercontent.com/googlefonts/noto-cjk/master/NotoSansCJK-Regular.ttc [following]\n",
            "--2020-11-12 21:23:02--  https://raw.githubusercontent.com/googlefonts/noto-cjk/master/NotoSansCJK-Regular.ttc\n",
            "Resolving raw.githubusercontent.com (raw.githubusercontent.com)... 151.101.0.133, 151.101.64.133, 151.101.128.133, ...\n",
            "Connecting to raw.githubusercontent.com (raw.githubusercontent.com)|151.101.0.133|:443... connected.\n",
            "HTTP request sent, awaiting response... 200 OK\n",
            "Length: 19981104 (19M) [application/octet-stream]\n",
            "Saving to: ‘NotoSansCJK-Regular.ttc’\n",
            "\n",
            "NotoSansCJK-Regular 100%[===================>]  19.05M  43.7MB/s    in 0.4s    \n",
            "\n",
            "2020-11-12 21:23:04 (43.7 MB/s) - ‘NotoSansCJK-Regular.ttc’ saved [19981104/19981104]\n",
            "\n"
          ],
          "name": "stdout"
        }
      ]
    },
    {
      "cell_type": "code",
      "metadata": {
        "id": "d0OXSlLNpHbL",
        "outputId": "065f9e6a-1c21-44b8-dcd1-94c8264ed158",
        "colab": {
          "base_uri": "https://localhost:8080/"
        }
      },
      "source": [
        "# 安裝 CKIP 套件\n",
        "! pip install ckiptagger\n",
        "# 下載 CKIP 模型（若當日下載次數太多可能會暫時無法下載）\n",
        "from ckiptagger import data_utils\n",
        "data_utils.download_data_gdown(\"./\")"
      ],
      "execution_count": 3,
      "outputs": [
        {
          "output_type": "stream",
          "text": [
            "Collecting ckiptagger\n",
            "  Downloading https://files.pythonhosted.org/packages/6b/bc/5cbf8d019167d5e5e1775069fb8b71a08691ab847e2926bbe7dee9a19010/ckiptagger-0.2.1-py3-none-any.whl\n",
            "Installing collected packages: ckiptagger\n",
            "Successfully installed ckiptagger-0.2.1\n"
          ],
          "name": "stdout"
        },
        {
          "output_type": "stream",
          "text": [
            "Downloading...\n",
            "From: https://drive.google.com/uc?id=1efHsY16pxK0lBD2gYCgCTnv1Swstq771\n",
            "To: /content/data.zip\n",
            "1.88GB [00:25, 72.3MB/s]\n"
          ],
          "name": "stderr"
        }
      ]
    },
    {
      "cell_type": "code",
      "metadata": {
        "id": "Eopbp0zVp8up"
      },
      "source": [
        "# 匯入斷詞、詞性標記、命名實體識別的三個工具\n",
        "from ckiptagger import WS, POS, NER\n",
        "ws = WS(\"./data\")\n",
        "pos = POS(\"./data\")\n",
        "ner = NER(\"./data\")"
      ],
      "execution_count": 4,
      "outputs": []
    },
    {
      "cell_type": "code",
      "metadata": {
        "id": "SGu0J95d0Vg4"
      },
      "source": [
        "# 匯入所需的 Python 套件\n",
        "import re\n",
        "import itertools\n",
        "import numpy as np # linear algebra\n",
        "import pandas as pd # data processing, CSV file I/O (e.g. pd.read_csv)\n",
        "import matplotlib.pyplot as plt\n",
        "import plotly.express as px\n",
        "import plotly.graph_objects as go\n",
        "from scipy.spatial import distance\n",
        "import networkx as nx"
      ],
      "execution_count": 5,
      "outputs": []
    },
    {
      "cell_type": "code",
      "metadata": {
        "id": "ADUAToDZl408",
        "cellView": "form"
      },
      "source": [
        "#@title 輸入\n",
        "分類細項 = \"文學小說 > 翻譯文學 > 日本文學\" #@param {type:\"string\"}\n",
        "分類細項 = 分類細項.replace(' ', '')\n",
        "分類細項 = 分類細項.replace('>', '_')\n",
        "出版年段 = \"2015 ~ 2019\" #@param {type:\"string\"}\n",
        "出版年段 = 出版年段.replace(' ', '')\n",
        "year_fr = int(出版年段[:4])\n",
        "year_to = int(出版年段[-4:])\n",
        "字詞出現次數大於 =  15#@param {type:\"integer\"}"
      ],
      "execution_count": 6,
      "outputs": []
    },
    {
      "cell_type": "code",
      "metadata": {
        "id": "qpDvWHwrTp3i",
        "outputId": "649fe65c-8c16-47c5-d35c-886ed18c7057",
        "colab": {
          "base_uri": "https://localhost:8080/",
          "height": 419
        }
      },
      "source": [
        "books = pd.read_csv(f'books-chinese-networkx/博客來-中文書_{分類細項}.csv')\n",
        "books['出版年'] = pd.Series(int(date[:4]) for date in books['出版日期'])\n",
        "books[(year_fr <= books['出版年']) & (books['出版年'] <= year_to)][['書名', '出版年']]"
      ],
      "execution_count": 7,
      "outputs": [
        {
          "output_type": "execute_result",
          "data": {
            "text/html": [
              "<div>\n",
              "<style scoped>\n",
              "    .dataframe tbody tr th:only-of-type {\n",
              "        vertical-align: middle;\n",
              "    }\n",
              "\n",
              "    .dataframe tbody tr th {\n",
              "        vertical-align: top;\n",
              "    }\n",
              "\n",
              "    .dataframe thead th {\n",
              "        text-align: right;\n",
              "    }\n",
              "</style>\n",
              "<table border=\"1\" class=\"dataframe\">\n",
              "  <thead>\n",
              "    <tr style=\"text-align: right;\">\n",
              "      <th></th>\n",
              "      <th>書名</th>\n",
              "      <th>出版年</th>\n",
              "    </tr>\n",
              "  </thead>\n",
              "  <tbody>\n",
              "    <tr>\n",
              "      <th>230</th>\n",
              "      <td>下町火箭：GHOST</td>\n",
              "      <td>2019</td>\n",
              "    </tr>\n",
              "    <tr>\n",
              "      <th>231</th>\n",
              "      <td>日輪之翼</td>\n",
              "      <td>2019</td>\n",
              "    </tr>\n",
              "    <tr>\n",
              "      <th>232</th>\n",
              "      <td>水族館女孩02 擦身而過的跳躍</td>\n",
              "      <td>2019</td>\n",
              "    </tr>\n",
              "    <tr>\n",
              "      <th>233</th>\n",
              "      <td>我的母親手記</td>\n",
              "      <td>2019</td>\n",
              "    </tr>\n",
              "    <tr>\n",
              "      <th>234</th>\n",
              "      <td>最後的證人</td>\n",
              "      <td>2019</td>\n",
              "    </tr>\n",
              "    <tr>\n",
              "      <th>...</th>\n",
              "      <td>...</td>\n",
              "      <td>...</td>\n",
              "    </tr>\n",
              "    <tr>\n",
              "      <th>1391</th>\n",
              "      <td>繼父(獨步九週年紀念版)</td>\n",
              "      <td>2015</td>\n",
              "    </tr>\n",
              "    <tr>\n",
              "      <th>1392</th>\n",
              "      <td>麵包、湯與貓咪日和</td>\n",
              "      <td>2015</td>\n",
              "    </tr>\n",
              "    <tr>\n",
              "      <th>1393</th>\n",
              "      <td>落櫻繽紛</td>\n",
              "      <td>2015</td>\n",
              "    </tr>\n",
              "    <tr>\n",
              "      <th>1394</th>\n",
              "      <td>愛的成人式</td>\n",
              "      <td>2015</td>\n",
              "    </tr>\n",
              "    <tr>\n",
              "      <th>1395</th>\n",
              "      <td>同級生</td>\n",
              "      <td>2015</td>\n",
              "    </tr>\n",
              "  </tbody>\n",
              "</table>\n",
              "<p>1166 rows × 2 columns</p>\n",
              "</div>"
            ],
            "text/plain": [
              "                   書名   出版年\n",
              "230        下町火箭：GHOST  2019\n",
              "231              日輪之翼  2019\n",
              "232   水族館女孩02 擦身而過的跳躍  2019\n",
              "233            我的母親手記  2019\n",
              "234             最後的證人  2019\n",
              "...               ...   ...\n",
              "1391     繼父(獨步九週年紀念版)  2015\n",
              "1392        麵包、湯與貓咪日和  2015\n",
              "1393             落櫻繽紛  2015\n",
              "1394            愛的成人式  2015\n",
              "1395              同級生  2015\n",
              "\n",
              "[1166 rows x 2 columns]"
            ]
          },
          "metadata": {
            "tags": []
          },
          "execution_count": 7
        }
      ]
    },
    {
      "cell_type": "code",
      "metadata": {
        "id": "SvD0D3PiDkzE"
      },
      "source": [
        "# 銷售用詞及其括號\n",
        "tags_to_remove = [\n",
        "    r'\\(.+版\\)',\n",
        "    r'（.+版）',\n",
        "    r'﹝.+版﹞',\n",
        "    r'【.+版】',\n",
        "    r'〈.+版〉',\n",
        "    r'《.+版》',\n",
        "\n",
        "    r'\\(全.+冊\\)',\n",
        "    r'（全.+冊）',\n",
        "    r'﹝全.+冊﹞',\n",
        "    r'【全.+冊】',\n",
        "    r'〈全.+冊〉',\n",
        "    r'《全.+冊》',\n",
        "\n",
        "    r'\\([上下]冊?\\)',\n",
        "    r'（[上下]冊?）',\n",
        "    r'﹝[上下]冊?﹞',\n",
        "    r'【[上下]冊?】',\n",
        "    r'〈[上下]冊?〉',\n",
        "    r'《[上下]冊?》',\n",
        "\n",
        "    r'\\(.*(新譯|譯本|導讀|精裝|線裝|扉頁|套組|套書|書衣|書票|附贈|贈品|海報|分售).*\\)',\n",
        "    r'（.*(新譯|譯本|導讀|精裝|線裝|扉頁|套組|套書|書衣|書票|附贈|贈品|海報|分售).*）',\n",
        "    r'﹝.*(新譯|譯本|導讀|精裝|線裝|扉頁|套組|套書|書衣|書票|附贈|贈品|海報|分售).*﹞',\n",
        "    r'【.*(新譯|譯本|導讀|精裝|線裝|扉頁|套組|套書|書衣|書票|附贈|贈品|海報|分售).*】',\n",
        "    r'〈.*(新譯|譯本|導讀|精裝|線裝|扉頁|套組|套書|書衣|書票|附贈|贈品|海報|分售).*〉',\n",
        "    r'《.*(新譯|譯本|導讀|精裝|線裝|扉頁|套組|套書|書衣|書票|附贈|贈品|海報|分售).*》',    ]"
      ],
      "execution_count": 8,
      "outputs": []
    },
    {
      "cell_type": "code",
      "metadata": {
        "id": "ASaBXsFqOX_F",
        "outputId": "8c0d0fe8-e166-48b3-d8f2-0f68799adfcb",
        "colab": {
          "base_uri": "https://localhost:8080/"
        }
      },
      "source": [
        "# 去除銷售用詞及其括號，再刪除重複書名\n",
        "titles = []\n",
        "removed = []\n",
        "for title in books[(year_fr <= books['出版年']) & (books['出版年'] <= year_to)]['書名']:\n",
        "    for tag in tags_to_remove:\n",
        "        match = re.search(tag, title)\n",
        "        if match:\n",
        "            removed.append(title)\n",
        "            title = title.replace(match.group(0), '')\n",
        "    titles.append(title)\n",
        "print('去除銷售用詞及其括號，再刪除重複書名')\n",
        "print(f'前： {len(titles)} 本')\n",
        "print(f'後： {len(set(titles))} 本')"
      ],
      "execution_count": 9,
      "outputs": [
        {
          "output_type": "stream",
          "text": [
            "去除銷售用詞及其括號，再刪除重複書名\n",
            "前： 1166 本\n",
            "後： 1133 本\n"
          ],
          "name": "stdout"
        }
      ]
    },
    {
      "cell_type": "code",
      "metadata": {
        "id": "lY_X3zrTnzDn"
      },
      "source": [
        "# 分析使用的詞類\n",
        "pos_to_keep = [\n",
        "    'A',\n",
        "    'ADV',\n",
        "    'N',\n",
        "    'Nv',\n",
        "    'Vi',\n",
        "    'Vt',\n",
        "    'FW',]"
      ],
      "execution_count": 10,
      "outputs": []
    },
    {
      "cell_type": "code",
      "metadata": {
        "id": "AdYw5eC6sYCW"
      },
      "source": [
        "# 詞類對應 http://ckipsvr.iis.sinica.edu.tw/cat.htm\n",
        "table = '''\n",
        "A\tA\n",
        "Caa\tC\n",
        "Cab\tPOST\n",
        "Cba\tPOST\n",
        "Cbb\tC\n",
        "D\tADV\n",
        "DE\tT\n",
        "Da\tADV\n",
        "Dfa\tADV\n",
        "Dfb\tADV\n",
        "Di\tASP\n",
        "Dk\tADV\n",
        "FW\tFW\n",
        "I\tT\n",
        "Na\tN\n",
        "Nb\tN\n",
        "Nc\tN\n",
        "Ncd\tN\n",
        "Nd\tN\n",
        "Nep\tDET\n",
        "Neqa\tDET\n",
        "Neqb\tPOST\n",
        "Nes\tDET\n",
        "Neu\tDET\n",
        "Nf\tM\n",
        "Ng\tPOST\n",
        "Nh\tN\n",
        "Nv\tNv\n",
        "P\tP\n",
        "SHI\tVt\n",
        "T\tT\n",
        "VA\tVi\n",
        "VAC\tVt\n",
        "VB\tVi\n",
        "VC\tVt\n",
        "VCL\tVt\n",
        "VD\tVt\n",
        "VE\tVt\n",
        "VF\tVt\n",
        "VG\tVt\n",
        "VH\tVi\n",
        "VHC\tVt\n",
        "VI\tVi\n",
        "VJ\tVt\n",
        "VK\tVt\n",
        "VL\tVt\n",
        "V_2\tVt'''\n",
        "\n",
        "pos_reduced = {}\n",
        "for k_v in table.strip().split('\\n'):\n",
        "    k,v = k_v.split()\n",
        "    pos_reduced[k] = v"
      ],
      "execution_count": 11,
      "outputs": []
    },
    {
      "cell_type": "code",
      "metadata": {
        "id": "eWntUEhaT_i1",
        "outputId": "4e069015-a32c-43c0-860d-37aab2efee55",
        "colab": {
          "base_uri": "https://localhost:8080/",
          "height": 419
        }
      },
      "source": [
        "# CKIP斷詞，若非分析使用的詞類，則出現次數歸零，統計字詞出現次數\n",
        "term_count = {}\n",
        "ws_of_titles = ws(set(titles))\n",
        "pos_of_titles = pos(ws_of_titles)\n",
        "for ws_of_title, pos_of_title in zip(ws_of_titles, pos_of_titles):\n",
        "    for w, p in zip(ws_of_title, pos_of_title):\n",
        "        if f'{w}({p})' not in term_count:\n",
        "            term_count[f'{w}({p})'] = 1\n",
        "        else:\n",
        "            term_count[f'{w}({p})'] += 1\n",
        "for term in term_count:\n",
        "    term_pos = re.search(r'\\((.+)\\)', term).group(1)\n",
        "    if term_pos not in pos_reduced:\n",
        "        term_count[term] = 0\n",
        "    elif pos_reduced[term_pos] not in pos_to_keep:\n",
        "        term_count[term] = 0\n",
        "term_count_df = pd.DataFrame({'字詞': [term for term in term_count], '出現次數': [count for count in term_count.values()]})\n",
        "term_count_df"
      ],
      "execution_count": 12,
      "outputs": [
        {
          "output_type": "execute_result",
          "data": {
            "text/html": [
              "<div>\n",
              "<style scoped>\n",
              "    .dataframe tbody tr th:only-of-type {\n",
              "        vertical-align: middle;\n",
              "    }\n",
              "\n",
              "    .dataframe tbody tr th {\n",
              "        vertical-align: top;\n",
              "    }\n",
              "\n",
              "    .dataframe thead th {\n",
              "        text-align: right;\n",
              "    }\n",
              "</style>\n",
              "<table border=\"1\" class=\"dataframe\">\n",
              "  <thead>\n",
              "    <tr style=\"text-align: right;\">\n",
              "      <th></th>\n",
              "      <th>字詞</th>\n",
              "      <th>出現次數</th>\n",
              "    </tr>\n",
              "  </thead>\n",
              "  <tbody>\n",
              "    <tr>\n",
              "      <th>0</th>\n",
              "      <td>虛實(Na)</td>\n",
              "      <td>4</td>\n",
              "    </tr>\n",
              "    <tr>\n",
              "      <th>1</th>\n",
              "      <td>妖怪(Na)</td>\n",
              "      <td>6</td>\n",
              "    </tr>\n",
              "    <tr>\n",
              "      <th>2</th>\n",
              "      <td>百物語(Na)</td>\n",
              "      <td>7</td>\n",
              "    </tr>\n",
              "    <tr>\n",
              "      <th>3</th>\n",
              "      <td>序(Na)</td>\n",
              "      <td>1</td>\n",
              "    </tr>\n",
              "    <tr>\n",
              "      <th>4</th>\n",
              "      <td>文章(Na)</td>\n",
              "      <td>1</td>\n",
              "    </tr>\n",
              "    <tr>\n",
              "      <th>...</th>\n",
              "      <td>...</td>\n",
              "      <td>...</td>\n",
              "    </tr>\n",
              "    <tr>\n",
              "      <th>2849</th>\n",
              "      <td>失落(VH)</td>\n",
              "      <td>1</td>\n",
              "    </tr>\n",
              "    <tr>\n",
              "      <th>2850</th>\n",
              "      <td>初心(Na)</td>\n",
              "      <td>1</td>\n",
              "    </tr>\n",
              "    <tr>\n",
              "      <th>2851</th>\n",
              "      <td>澄淨(VH)</td>\n",
              "      <td>1</td>\n",
              "    </tr>\n",
              "    <tr>\n",
              "      <th>2852</th>\n",
              "      <td>原野(Na)</td>\n",
              "      <td>1</td>\n",
              "    </tr>\n",
              "    <tr>\n",
              "      <th>2853</th>\n",
              "      <td>白痴(Na)</td>\n",
              "      <td>1</td>\n",
              "    </tr>\n",
              "  </tbody>\n",
              "</table>\n",
              "<p>2854 rows × 2 columns</p>\n",
              "</div>"
            ],
            "text/plain": [
              "           字詞  出現次數\n",
              "0      虛實(Na)     4\n",
              "1      妖怪(Na)     6\n",
              "2     百物語(Na)     7\n",
              "3       序(Na)     1\n",
              "4      文章(Na)     1\n",
              "...       ...   ...\n",
              "2849   失落(VH)     1\n",
              "2850   初心(Na)     1\n",
              "2851   澄淨(VH)     1\n",
              "2852   原野(Na)     1\n",
              "2853   白痴(Na)     1\n",
              "\n",
              "[2854 rows x 2 columns]"
            ]
          },
          "metadata": {
            "tags": []
          },
          "execution_count": 12
        }
      ]
    },
    {
      "cell_type": "code",
      "metadata": {
        "id": "cKLDG05U1nc6"
      },
      "source": [
        "## 統計\n",
        "#term_count_df[['出現次數']].describe()"
      ],
      "execution_count": 13,
      "outputs": []
    },
    {
      "cell_type": "code",
      "metadata": {
        "id": "AyPYijVcAIJ2",
        "outputId": "777c7375-de09-453a-a83f-e61733861c9c",
        "colab": {
          "base_uri": "https://localhost:8080/"
        }
      },
      "source": [
        "df = term_count_df[term_count_df['出現次數'] > 字詞出現次數大於].sort_values(by='出現次數', ascending=False)\n",
        "print(f'出現次數大於 {字詞出現次數大於} 的字詞有 {len(df)} 個')"
      ],
      "execution_count": 14,
      "outputs": [
        {
          "output_type": "stream",
          "text": [
            "出現次數大於 15 的字詞有 22 個\n"
          ],
          "name": "stdout"
        }
      ]
    },
    {
      "cell_type": "code",
      "metadata": {
        "id": "jx8vtvKVY4rK",
        "outputId": "5bd5defd-2b87-4586-b9d9-dd66d0c8f3bc",
        "colab": {
          "base_uri": "https://localhost:8080/",
          "height": 542
        }
      },
      "source": [
        "fig = px.bar(df, color='出現次數', color_continuous_scale=px.colors.sequential.Viridis, x='字詞', y='出現次數')\n",
        "fig.show()"
      ],
      "execution_count": 15,
      "outputs": [
        {
          "output_type": "display_data",
          "data": {
            "text/html": [
              "<html>\n",
              "<head><meta charset=\"utf-8\" /></head>\n",
              "<body>\n",
              "    <div>\n",
              "            <script src=\"https://cdnjs.cloudflare.com/ajax/libs/mathjax/2.7.5/MathJax.js?config=TeX-AMS-MML_SVG\"></script><script type=\"text/javascript\">if (window.MathJax) {MathJax.Hub.Config({SVG: {font: \"STIX-Web\"}});}</script>\n",
              "                <script type=\"text/javascript\">window.PlotlyConfig = {MathJaxConfig: 'local'};</script>\n",
              "        <script src=\"https://cdn.plot.ly/plotly-latest.min.js\"></script>    \n",
              "            <div id=\"a2ff470b-e2df-48fd-a71d-be517876d781\" class=\"plotly-graph-div\" style=\"height:525px; width:100%;\"></div>\n",
              "            <script type=\"text/javascript\">\n",
              "                \n",
              "                    window.PLOTLYENV=window.PLOTLYENV || {};\n",
              "                    \n",
              "                if (document.getElementById(\"a2ff470b-e2df-48fd-a71d-be517876d781\")) {\n",
              "                    Plotly.newPlot(\n",
              "                        'a2ff470b-e2df-48fd-a71d-be517876d781',\n",
              "                        [{\"alignmentgroup\": \"True\", \"hoverlabel\": {\"namelength\": 0}, \"hovertemplate\": \"\\u5b57\\u8a5e=%{x}<br>\\u51fa\\u73fe\\u6b21\\u6578=%{marker.color}\", \"legendgroup\": \"\", \"marker\": {\"color\": [71, 62, 40, 39, 37, 34, 28, 28, 27, 27, 25, 25, 23, 20, 20, 19, 19, 18, 18, 17, 17, 16], \"coloraxis\": \"coloraxis\"}, \"name\": \"\", \"offsetgroup\": \"\", \"orientation\": \"v\", \"showlegend\": false, \"textposition\": \"auto\", \"type\": \"bar\", \"x\": [\"\\u65e5\\u672c(Nc)\", \"\\u6211(Nh)\", \"\\u7d93\\u5178(Na)\", \"\\u5c0f\\u8aaa(Na)\", \"\\u6587\\u5b78(Na)\", \"\\u6536\\u9304(VC)\", \"\\u5075\\u63a2(Na)\", \"\\u6587\\u8c6a(Na)\", \"\\u4e0d(D)\", \"\\u662f(SHI)\", \"\\u4f60(Nh)\", \"\\u77ed\\u7bc7(A)\", \"\\u9670\\u967d\\u5e2b(Nb)\", \"\\u6df1\\u591c(Nd)\", \"\\u4eba(Na)\", \"\\u591c(Nd)\", \"\\u592a\\u5bb0\\u6cbb(Nb)\", \"\\u6bba\\u4eba(VA)\", \"\\u590f\\u76ee\\u6f31\\u77f3(Nb)\", \"\\u82a5\\u5ddd\\u9f8d\\u4e4b\\u4ecb(Nb)\", \"\\u4e8b\\u4ef6(Na)\", \"\\u8c93(Na)\"], \"xaxis\": \"x\", \"y\": [71, 62, 40, 39, 37, 34, 28, 28, 27, 27, 25, 25, 23, 20, 20, 19, 19, 18, 18, 17, 17, 16], \"yaxis\": \"y\"}],\n",
              "                        {\"barmode\": \"relative\", \"coloraxis\": {\"colorbar\": {\"title\": {\"text\": \"\\u51fa\\u73fe\\u6b21\\u6578\"}}, \"colorscale\": [[0.0, \"#440154\"], [0.1111111111111111, \"#482878\"], [0.2222222222222222, \"#3e4989\"], [0.3333333333333333, \"#31688e\"], [0.4444444444444444, \"#26828e\"], [0.5555555555555556, \"#1f9e89\"], [0.6666666666666666, \"#35b779\"], [0.7777777777777778, \"#6ece58\"], [0.8888888888888888, \"#b5de2b\"], [1.0, \"#fde725\"]]}, \"legend\": {\"tracegroupgap\": 0}, \"margin\": {\"t\": 60}, \"template\": {\"data\": {\"bar\": [{\"error_x\": {\"color\": \"#2a3f5f\"}, \"error_y\": {\"color\": \"#2a3f5f\"}, \"marker\": {\"line\": {\"color\": \"#E5ECF6\", \"width\": 0.5}}, \"type\": \"bar\"}], \"barpolar\": [{\"marker\": {\"line\": {\"color\": \"#E5ECF6\", \"width\": 0.5}}, \"type\": \"barpolar\"}], \"carpet\": [{\"aaxis\": {\"endlinecolor\": \"#2a3f5f\", \"gridcolor\": \"white\", \"linecolor\": \"white\", \"minorgridcolor\": \"white\", \"startlinecolor\": \"#2a3f5f\"}, \"baxis\": {\"endlinecolor\": \"#2a3f5f\", \"gridcolor\": \"white\", \"linecolor\": \"white\", \"minorgridcolor\": \"white\", \"startlinecolor\": \"#2a3f5f\"}, \"type\": \"carpet\"}], \"choropleth\": [{\"colorbar\": {\"outlinewidth\": 0, \"ticks\": \"\"}, \"type\": \"choropleth\"}], \"contour\": [{\"colorbar\": {\"outlinewidth\": 0, \"ticks\": \"\"}, \"colorscale\": [[0.0, \"#0d0887\"], [0.1111111111111111, \"#46039f\"], [0.2222222222222222, \"#7201a8\"], [0.3333333333333333, \"#9c179e\"], [0.4444444444444444, \"#bd3786\"], [0.5555555555555556, \"#d8576b\"], [0.6666666666666666, \"#ed7953\"], [0.7777777777777778, \"#fb9f3a\"], [0.8888888888888888, \"#fdca26\"], [1.0, \"#f0f921\"]], \"type\": \"contour\"}], \"contourcarpet\": [{\"colorbar\": {\"outlinewidth\": 0, \"ticks\": \"\"}, \"type\": \"contourcarpet\"}], \"heatmap\": [{\"colorbar\": {\"outlinewidth\": 0, \"ticks\": \"\"}, \"colorscale\": [[0.0, \"#0d0887\"], [0.1111111111111111, \"#46039f\"], [0.2222222222222222, \"#7201a8\"], [0.3333333333333333, \"#9c179e\"], [0.4444444444444444, \"#bd3786\"], [0.5555555555555556, \"#d8576b\"], [0.6666666666666666, \"#ed7953\"], [0.7777777777777778, \"#fb9f3a\"], [0.8888888888888888, \"#fdca26\"], [1.0, \"#f0f921\"]], \"type\": \"heatmap\"}], \"heatmapgl\": [{\"colorbar\": {\"outlinewidth\": 0, \"ticks\": \"\"}, \"colorscale\": [[0.0, \"#0d0887\"], [0.1111111111111111, \"#46039f\"], [0.2222222222222222, \"#7201a8\"], [0.3333333333333333, \"#9c179e\"], [0.4444444444444444, \"#bd3786\"], [0.5555555555555556, \"#d8576b\"], [0.6666666666666666, \"#ed7953\"], [0.7777777777777778, \"#fb9f3a\"], [0.8888888888888888, \"#fdca26\"], [1.0, \"#f0f921\"]], \"type\": \"heatmapgl\"}], \"histogram\": [{\"marker\": {\"colorbar\": {\"outlinewidth\": 0, \"ticks\": \"\"}}, \"type\": \"histogram\"}], \"histogram2d\": [{\"colorbar\": {\"outlinewidth\": 0, \"ticks\": \"\"}, \"colorscale\": [[0.0, \"#0d0887\"], [0.1111111111111111, \"#46039f\"], [0.2222222222222222, \"#7201a8\"], [0.3333333333333333, \"#9c179e\"], [0.4444444444444444, \"#bd3786\"], [0.5555555555555556, \"#d8576b\"], [0.6666666666666666, \"#ed7953\"], [0.7777777777777778, \"#fb9f3a\"], [0.8888888888888888, \"#fdca26\"], [1.0, \"#f0f921\"]], \"type\": \"histogram2d\"}], \"histogram2dcontour\": [{\"colorbar\": {\"outlinewidth\": 0, \"ticks\": \"\"}, \"colorscale\": [[0.0, \"#0d0887\"], [0.1111111111111111, \"#46039f\"], [0.2222222222222222, \"#7201a8\"], [0.3333333333333333, \"#9c179e\"], [0.4444444444444444, \"#bd3786\"], [0.5555555555555556, \"#d8576b\"], [0.6666666666666666, \"#ed7953\"], [0.7777777777777778, \"#fb9f3a\"], [0.8888888888888888, \"#fdca26\"], [1.0, \"#f0f921\"]], \"type\": \"histogram2dcontour\"}], \"mesh3d\": [{\"colorbar\": {\"outlinewidth\": 0, \"ticks\": \"\"}, \"type\": \"mesh3d\"}], \"parcoords\": [{\"line\": {\"colorbar\": {\"outlinewidth\": 0, \"ticks\": \"\"}}, \"type\": \"parcoords\"}], \"pie\": [{\"automargin\": true, \"type\": \"pie\"}], \"scatter\": [{\"marker\": {\"colorbar\": {\"outlinewidth\": 0, \"ticks\": \"\"}}, \"type\": \"scatter\"}], \"scatter3d\": [{\"line\": {\"colorbar\": {\"outlinewidth\": 0, \"ticks\": \"\"}}, \"marker\": {\"colorbar\": {\"outlinewidth\": 0, \"ticks\": \"\"}}, \"type\": \"scatter3d\"}], \"scattercarpet\": [{\"marker\": {\"colorbar\": {\"outlinewidth\": 0, \"ticks\": \"\"}}, \"type\": \"scattercarpet\"}], \"scattergeo\": [{\"marker\": {\"colorbar\": {\"outlinewidth\": 0, \"ticks\": \"\"}}, \"type\": \"scattergeo\"}], \"scattergl\": [{\"marker\": {\"colorbar\": {\"outlinewidth\": 0, \"ticks\": \"\"}}, \"type\": \"scattergl\"}], \"scattermapbox\": [{\"marker\": {\"colorbar\": {\"outlinewidth\": 0, \"ticks\": \"\"}}, \"type\": \"scattermapbox\"}], \"scatterpolar\": [{\"marker\": {\"colorbar\": {\"outlinewidth\": 0, \"ticks\": \"\"}}, \"type\": \"scatterpolar\"}], \"scatterpolargl\": [{\"marker\": {\"colorbar\": {\"outlinewidth\": 0, \"ticks\": \"\"}}, \"type\": \"scatterpolargl\"}], \"scatterternary\": [{\"marker\": {\"colorbar\": {\"outlinewidth\": 0, \"ticks\": \"\"}}, \"type\": \"scatterternary\"}], \"surface\": [{\"colorbar\": {\"outlinewidth\": 0, \"ticks\": \"\"}, \"colorscale\": [[0.0, \"#0d0887\"], [0.1111111111111111, \"#46039f\"], [0.2222222222222222, \"#7201a8\"], [0.3333333333333333, \"#9c179e\"], [0.4444444444444444, \"#bd3786\"], [0.5555555555555556, \"#d8576b\"], [0.6666666666666666, \"#ed7953\"], [0.7777777777777778, \"#fb9f3a\"], [0.8888888888888888, \"#fdca26\"], [1.0, \"#f0f921\"]], \"type\": \"surface\"}], \"table\": [{\"cells\": {\"fill\": {\"color\": \"#EBF0F8\"}, \"line\": {\"color\": \"white\"}}, \"header\": {\"fill\": {\"color\": \"#C8D4E3\"}, \"line\": {\"color\": \"white\"}}, \"type\": \"table\"}]}, \"layout\": {\"annotationdefaults\": {\"arrowcolor\": \"#2a3f5f\", \"arrowhead\": 0, \"arrowwidth\": 1}, \"coloraxis\": {\"colorbar\": {\"outlinewidth\": 0, \"ticks\": \"\"}}, \"colorscale\": {\"diverging\": [[0, \"#8e0152\"], [0.1, \"#c51b7d\"], [0.2, \"#de77ae\"], [0.3, \"#f1b6da\"], [0.4, \"#fde0ef\"], [0.5, \"#f7f7f7\"], [0.6, \"#e6f5d0\"], [0.7, \"#b8e186\"], [0.8, \"#7fbc41\"], [0.9, \"#4d9221\"], [1, \"#276419\"]], \"sequential\": [[0.0, \"#0d0887\"], [0.1111111111111111, \"#46039f\"], [0.2222222222222222, \"#7201a8\"], [0.3333333333333333, \"#9c179e\"], [0.4444444444444444, \"#bd3786\"], [0.5555555555555556, \"#d8576b\"], [0.6666666666666666, \"#ed7953\"], [0.7777777777777778, \"#fb9f3a\"], [0.8888888888888888, \"#fdca26\"], [1.0, \"#f0f921\"]], \"sequentialminus\": [[0.0, \"#0d0887\"], [0.1111111111111111, \"#46039f\"], [0.2222222222222222, \"#7201a8\"], [0.3333333333333333, \"#9c179e\"], [0.4444444444444444, \"#bd3786\"], [0.5555555555555556, \"#d8576b\"], [0.6666666666666666, \"#ed7953\"], [0.7777777777777778, \"#fb9f3a\"], [0.8888888888888888, \"#fdca26\"], [1.0, \"#f0f921\"]]}, \"colorway\": [\"#636efa\", \"#EF553B\", \"#00cc96\", \"#ab63fa\", \"#FFA15A\", \"#19d3f3\", \"#FF6692\", \"#B6E880\", \"#FF97FF\", \"#FECB52\"], \"font\": {\"color\": \"#2a3f5f\"}, \"geo\": {\"bgcolor\": \"white\", \"lakecolor\": \"white\", \"landcolor\": \"#E5ECF6\", \"showlakes\": true, \"showland\": true, \"subunitcolor\": \"white\"}, \"hoverlabel\": {\"align\": \"left\"}, \"hovermode\": \"closest\", \"mapbox\": {\"style\": \"light\"}, \"paper_bgcolor\": \"white\", \"plot_bgcolor\": \"#E5ECF6\", \"polar\": {\"angularaxis\": {\"gridcolor\": \"white\", \"linecolor\": \"white\", \"ticks\": \"\"}, \"bgcolor\": \"#E5ECF6\", \"radialaxis\": {\"gridcolor\": \"white\", \"linecolor\": \"white\", \"ticks\": \"\"}}, \"scene\": {\"xaxis\": {\"backgroundcolor\": \"#E5ECF6\", \"gridcolor\": \"white\", \"gridwidth\": 2, \"linecolor\": \"white\", \"showbackground\": true, \"ticks\": \"\", \"zerolinecolor\": \"white\"}, \"yaxis\": {\"backgroundcolor\": \"#E5ECF6\", \"gridcolor\": \"white\", \"gridwidth\": 2, \"linecolor\": \"white\", \"showbackground\": true, \"ticks\": \"\", \"zerolinecolor\": \"white\"}, \"zaxis\": {\"backgroundcolor\": \"#E5ECF6\", \"gridcolor\": \"white\", \"gridwidth\": 2, \"linecolor\": \"white\", \"showbackground\": true, \"ticks\": \"\", \"zerolinecolor\": \"white\"}}, \"shapedefaults\": {\"line\": {\"color\": \"#2a3f5f\"}}, \"ternary\": {\"aaxis\": {\"gridcolor\": \"white\", \"linecolor\": \"white\", \"ticks\": \"\"}, \"baxis\": {\"gridcolor\": \"white\", \"linecolor\": \"white\", \"ticks\": \"\"}, \"bgcolor\": \"#E5ECF6\", \"caxis\": {\"gridcolor\": \"white\", \"linecolor\": \"white\", \"ticks\": \"\"}}, \"title\": {\"x\": 0.05}, \"xaxis\": {\"automargin\": true, \"gridcolor\": \"white\", \"linecolor\": \"white\", \"ticks\": \"\", \"title\": {\"standoff\": 15}, \"zerolinecolor\": \"white\", \"zerolinewidth\": 2}, \"yaxis\": {\"automargin\": true, \"gridcolor\": \"white\", \"linecolor\": \"white\", \"ticks\": \"\", \"title\": {\"standoff\": 15}, \"zerolinecolor\": \"white\", \"zerolinewidth\": 2}}}, \"xaxis\": {\"anchor\": \"y\", \"domain\": [0.0, 1.0], \"title\": {\"text\": \"\\u5b57\\u8a5e\"}}, \"yaxis\": {\"anchor\": \"x\", \"domain\": [0.0, 1.0], \"title\": {\"text\": \"\\u51fa\\u73fe\\u6b21\\u6578\"}}},\n",
              "                        {\"responsive\": true}\n",
              "                    ).then(function(){\n",
              "                            \n",
              "var gd = document.getElementById('a2ff470b-e2df-48fd-a71d-be517876d781');\n",
              "var x = new MutationObserver(function (mutations, observer) {{\n",
              "        var display = window.getComputedStyle(gd).display;\n",
              "        if (!display || display === 'none') {{\n",
              "            console.log([gd, 'removed!']);\n",
              "            Plotly.purge(gd);\n",
              "            observer.disconnect();\n",
              "        }}\n",
              "}});\n",
              "\n",
              "// Listen for the removal of the full notebook cells\n",
              "var notebookContainer = gd.closest('#notebook-container');\n",
              "if (notebookContainer) {{\n",
              "    x.observe(notebookContainer, {childList: true});\n",
              "}}\n",
              "\n",
              "// Listen for the clearing of the current output cell\n",
              "var outputEl = gd.closest('.output');\n",
              "if (outputEl) {{\n",
              "    x.observe(outputEl, {childList: true});\n",
              "}}\n",
              "\n",
              "                        })\n",
              "                };\n",
              "                \n",
              "            </script>\n",
              "        </div>\n",
              "</body>\n",
              "</html>"
            ]
          },
          "metadata": {
            "tags": []
          }
        }
      ]
    },
    {
      "cell_type": "code",
      "metadata": {
        "id": "GZKhG7_zbFM4"
      },
      "source": [
        "vocab    = dict(zip(df['字詞'], range(len(df))))\n",
        "re_vocab = dict(zip(range(len(df)), df['字詞']))#list(df['字詞'])\n",
        "assert len(df) == len(vocab) == len(re_vocab)"
      ],
      "execution_count": 16,
      "outputs": []
    },
    {
      "cell_type": "code",
      "metadata": {
        "id": "3UqY_1UKcS1n",
        "outputId": "0493ea2a-8737-4150-f763-6cff535bf5e8",
        "colab": {
          "base_uri": "https://localhost:8080/"
        }
      },
      "source": [
        "C_ws_of_titles = [list(itertools.combinations(title, 2)) for title in ws_of_titles]\n",
        "C_pos_of_titles = [list(itertools.combinations(title, 2)) for title in pos_of_titles]\n",
        "cooccurrence_matrix = np.zeros((len(df), len(df)))\n",
        "for C_ws_of_title, C_pos_of_title in zip(C_ws_of_titles, C_pos_of_titles):\n",
        "    for w, p in zip(C_ws_of_title, C_pos_of_title):\n",
        "        if f'{w[0]}({p[0]})' in vocab and f'{w[1]}({p[1]})' in vocab:\n",
        "            cooccurrence_matrix[vocab[f'{w[0]}({p[0]})'], vocab[f'{w[1]}({p[1]})']] += 1\n",
        "            cooccurrence_matrix[vocab[f'{w[1]}({p[1]})'], vocab[f'{w[0]}({p[0]})']] += 1\n",
        "for i in range(len(df)):\n",
        "    cooccurrence_matrix[i, i] /= 2\n",
        "cooccurrence_matrix"
      ],
      "execution_count": 17,
      "outputs": [
        {
          "output_type": "execute_result",
          "data": {
            "text/plain": [
              "array([[ 8.,  1., 18.,  7., 22.,  3.,  2., 21.,  0.,  3.,  0.,  3.,  0.,\n",
              "         0.,  2.,  1.,  1.,  1.,  7.,  2.,  1.,  3.],\n",
              "       [ 1.,  5.,  3.,  4.,  1.,  1.,  1.,  0.,  4., 10.,  6.,  3.,  0.,\n",
              "         0.,  7.,  0.,  1.,  0.,  5.,  2.,  0., 10.],\n",
              "       [18.,  3.,  0.,  5., 21.,  2.,  0.,  5.,  1.,  2.,  0.,  4.,  0.,\n",
              "         0.,  1.,  2.,  4.,  1.,  6.,  3.,  1.,  2.],\n",
              "       [ 7.,  4.,  5.,  0.,  1.,  6.,  3.,  2.,  2.,  0.,  1., 13.,  2.,\n",
              "         0.,  1.,  1.,  3.,  0.,  5.,  5.,  0.,  0.],\n",
              "       [22.,  1., 21.,  1.,  5.,  5.,  0.,  6.,  0.,  1.,  0.,  2.,  0.,\n",
              "         0.,  0.,  1.,  0.,  0.,  4.,  2.,  0.,  3.],\n",
              "       [ 3.,  1.,  2.,  6.,  5.,  0.,  0.,  1.,  2.,  1.,  2.,  4.,  0.,\n",
              "         0.,  1.,  1.,  6.,  0.,  4.,  1.,  2.,  3.],\n",
              "       [ 2.,  1.,  0.,  3.,  0.,  0.,  1.,  2.,  0.,  0.,  0.,  0.,  0.,\n",
              "         0.,  0.,  0.,  0.,  0.,  2.,  2.,  0.,  0.],\n",
              "       [21.,  0.,  5.,  2.,  6.,  1.,  2.,  1.,  0.,  2.,  0.,  0.,  0.,\n",
              "         0.,  1.,  0.,  4.,  0.,  3.,  2.,  0.,  2.],\n",
              "       [ 0.,  4.,  1.,  2.,  0.,  2.,  0.,  0.,  2.,  4.,  2.,  0.,  0.,\n",
              "         1.,  2.,  0.,  2.,  1.,  0.,  1.,  1.,  0.],\n",
              "       [ 3., 10.,  2.,  0.,  1.,  1.,  0.,  2.,  4.,  2.,  1.,  0.,  0.,\n",
              "         0.,  2.,  0.,  0.,  0.,  5.,  0.,  0., 11.],\n",
              "       [ 0.,  6.,  0.,  1.,  0.,  2.,  0.,  0.,  2.,  1.,  0.,  1.,  0.,\n",
              "         0.,  0.,  0.,  1.,  0.,  0.,  0.,  0.,  0.],\n",
              "       [ 3.,  3.,  4., 13.,  2.,  4.,  0.,  0.,  0.,  0.,  1.,  1.,  0.,\n",
              "         0.,  0.,  2.,  0.,  0.,  1.,  8.,  0.,  0.],\n",
              "       [ 0.,  0.,  0.,  2.,  0.,  0.,  0.,  0.,  0.,  0.,  0.,  0.,  1.,\n",
              "         0.,  0.,  0.,  0.,  0.,  0.,  0.,  0.,  0.],\n",
              "       [ 0.,  0.,  0.,  0.,  0.,  0.,  0.,  0.,  1.,  0.,  0.,  0.,  0.,\n",
              "         1.,  0.,  0.,  0.,  0.,  0.,  0.,  0.,  0.],\n",
              "       [ 2.,  7.,  1.,  1.,  0.,  1.,  0.,  1.,  2.,  2.,  0.,  0.,  0.,\n",
              "         0.,  1.,  0.,  3.,  0.,  1.,  0.,  0.,  0.],\n",
              "       [ 1.,  0.,  2.,  1.,  1.,  1.,  0.,  0.,  0.,  0.,  0.,  2.,  0.,\n",
              "         0.,  0.,  0.,  0.,  1.,  0.,  0.,  0.,  0.],\n",
              "       [ 1.,  1.,  4.,  3.,  0.,  6.,  0.,  4.,  2.,  0.,  1.,  0.,  0.,\n",
              "         0.,  3.,  0.,  0.,  0.,  1.,  1.,  0.,  0.],\n",
              "       [ 1.,  0.,  1.,  0.,  0.,  0.,  0.,  0.,  1.,  0.,  0.,  0.,  0.,\n",
              "         0.,  0.,  1.,  0.,  0.,  0.,  0., 10.,  0.],\n",
              "       [ 7.,  5.,  6.,  5.,  4.,  4.,  2.,  3.,  0.,  5.,  0.,  1.,  0.,\n",
              "         0.,  1.,  0.,  1.,  0.,  0.,  2.,  0.,  6.],\n",
              "       [ 2.,  2.,  3.,  5.,  2.,  1.,  2.,  2.,  1.,  0.,  0.,  8.,  0.,\n",
              "         0.,  0.,  0.,  1.,  0.,  2.,  0.,  0.,  0.],\n",
              "       [ 1.,  0.,  1.,  0.,  0.,  2.,  0.,  0.,  1.,  0.,  0.,  0.,  0.,\n",
              "         0.,  0.,  0.,  0., 10.,  0.,  0.,  0.,  0.],\n",
              "       [ 3., 10.,  2.,  0.,  3.,  3.,  0.,  2.,  0., 11.,  0.,  0.,  0.,\n",
              "         0.,  0.,  0.,  0.,  0.,  6.,  0.,  0.,  3.]])"
            ]
          },
          "metadata": {
            "tags": []
          },
          "execution_count": 17
        }
      ]
    },
    {
      "cell_type": "code",
      "metadata": {
        "id": "d53fVEM1HkvY",
        "outputId": "0e3d19a1-58ba-43e2-d1d9-ffb100150f1b",
        "colab": {
          "base_uri": "https://localhost:8080/"
        }
      },
      "source": [
        "jaccard_matrix = 1 - distance.cdist(cooccurrence_matrix, cooccurrence_matrix, 'jaccard')\n",
        "jaccard_matrix"
      ],
      "execution_count": 18,
      "outputs": [
        {
          "output_type": "execute_result",
          "data": {
            "text/plain": [
              "array([[1.        , 0.15      , 0.10526316, 0.04761905, 0.22222222,\n",
              "        0.15      , 0.11111111, 0.11111111, 0.14285714, 0.05      ,\n",
              "        0.05263158, 0.        , 0.        , 0.        , 0.        ,\n",
              "        0.05555556, 0.05      , 0.05263158, 0.16666667, 0.10526316,\n",
              "        0.        , 0.11111111],\n",
              "       [0.15      , 1.        , 0.        , 0.10526316, 0.05555556,\n",
              "        0.        , 0.11764706, 0.11764706, 0.        , 0.23529412,\n",
              "        0.0625    , 0.        , 0.        , 0.        , 0.05882353,\n",
              "        0.17647059, 0.05882353, 0.05555556, 0.17647059, 0.17647059,\n",
              "        0.05882353, 0.        ],\n",
              "       [0.10526316, 0.        , 1.        , 0.04761905, 0.        ,\n",
              "        0.10526316, 0.        , 0.21052632, 0.15      , 0.05263158,\n",
              "        0.05882353, 0.10526316, 0.        , 0.05555556, 0.11111111,\n",
              "        0.05555556, 0.        , 0.05555556, 0.10526316, 0.10526316,\n",
              "        0.11111111, 0.05555556],\n",
              "       [0.04761905, 0.10526316, 0.04761905, 1.        , 0.05263158,\n",
              "        0.15      , 0.05882353, 0.10526316, 0.0952381 , 0.22222222,\n",
              "        0.05555556, 0.05882353, 0.        , 0.        , 0.16666667,\n",
              "        0.05555556, 0.17647059, 0.05882353, 0.10526316, 0.05882353,\n",
              "        0.        , 0.05555556],\n",
              "       [0.22222222, 0.05555556, 0.        , 0.05263158, 1.        ,\n",
              "        0.33333333, 0.14285714, 0.0625    , 0.        , 0.        ,\n",
              "        0.13333333, 0.        , 0.        , 0.        , 0.0625    ,\n",
              "        0.14285714, 0.0625    , 0.06666667, 0.0625    , 0.        ,\n",
              "        0.        , 0.07692308],\n",
              "       [0.15      , 0.        , 0.10526316, 0.15      , 0.33333333,\n",
              "        1.        , 0.05555556, 0.10526316, 0.15      , 0.11111111,\n",
              "        0.11111111, 0.05555556, 0.        , 0.        , 0.16666667,\n",
              "        0.05263158, 0.16666667, 0.05882353, 0.05263158, 0.        ,\n",
              "        0.        , 0.16666667],\n",
              "       [0.11111111, 0.11764706, 0.        , 0.05882353, 0.14285714,\n",
              "        0.05555556, 1.        , 0.07142857, 0.        , 0.06666667,\n",
              "        0.        , 0.        , 0.        , 0.        , 0.07692308,\n",
              "        0.        , 0.16666667, 0.        , 0.06666667, 0.23076923,\n",
              "        0.        , 0.08333333],\n",
              "       [0.11111111, 0.11764706, 0.21052632, 0.10526316, 0.0625    ,\n",
              "        0.10526316, 0.07142857, 1.        , 0.05263158, 0.125     ,\n",
              "        0.        , 0.        , 0.07142857, 0.        , 0.26666667,\n",
              "        0.06666667, 0.        , 0.        , 0.2       , 0.125     ,\n",
              "        0.        , 0.        ],\n",
              "       [0.14285714, 0.        , 0.15      , 0.0952381 , 0.        ,\n",
              "        0.15      , 0.        , 0.05263158, 1.        , 0.05555556,\n",
              "        0.14285714, 0.        , 0.07142857, 0.07692308, 0.125     ,\n",
              "        0.0625    , 0.125     , 0.06666667, 0.        , 0.        ,\n",
              "        0.14285714, 0.        ],\n",
              "       [0.05      , 0.23529412, 0.05263158, 0.22222222, 0.        ,\n",
              "        0.11111111, 0.06666667, 0.125     , 0.05555556, 1.        ,\n",
              "        0.        , 0.125     , 0.        , 0.        , 0.14285714,\n",
              "        0.2       , 0.07142857, 0.        , 0.        , 0.125     ,\n",
              "        0.        , 0.33333333],\n",
              "       [0.05263158, 0.0625    , 0.05882353, 0.05555556, 0.13333333,\n",
              "        0.11111111, 0.        , 0.        , 0.14285714, 0.        ,\n",
              "        1.        , 0.07142857, 0.        , 0.        , 0.16666667,\n",
              "        0.09090909, 0.07142857, 0.        , 0.13333333, 0.07692308,\n",
              "        0.1       , 0.        ],\n",
              "       [0.        , 0.        , 0.10526316, 0.05882353, 0.        ,\n",
              "        0.05555556, 0.        , 0.        , 0.        , 0.125     ,\n",
              "        0.07142857, 1.        , 0.        , 0.        , 0.0625    ,\n",
              "        0.        , 0.21428571, 0.        , 0.11764706, 0.06666667,\n",
              "        0.        , 0.07142857],\n",
              "       [0.        , 0.        , 0.        , 0.        , 0.        ,\n",
              "        0.        , 0.        , 0.07142857, 0.07142857, 0.        ,\n",
              "        0.        , 0.        , 1.        , 0.        , 0.        ,\n",
              "        0.        , 0.        , 0.        , 0.        , 0.        ,\n",
              "        0.        , 0.        ],\n",
              "       [0.        , 0.        , 0.05555556, 0.        , 0.        ,\n",
              "        0.        , 0.        , 0.        , 0.07692308, 0.        ,\n",
              "        0.        , 0.        , 0.        , 1.        , 0.        ,\n",
              "        0.        , 0.        , 0.16666667, 0.        , 0.07692308,\n",
              "        0.16666667, 0.        ],\n",
              "       [0.        , 0.05882353, 0.11111111, 0.16666667, 0.0625    ,\n",
              "        0.16666667, 0.07692308, 0.26666667, 0.125     , 0.14285714,\n",
              "        0.16666667, 0.0625    , 0.        , 0.        , 1.        ,\n",
              "        0.14285714, 0.15384615, 0.07692308, 0.0625    , 0.14285714,\n",
              "        0.08333333, 0.        ],\n",
              "       [0.05555556, 0.17647059, 0.05555556, 0.05555556, 0.14285714,\n",
              "        0.05263158, 0.        , 0.06666667, 0.0625    , 0.2       ,\n",
              "        0.09090909, 0.        , 0.        , 0.        , 0.14285714,\n",
              "        1.        , 0.07142857, 0.1       , 0.        , 0.07692308,\n",
              "        0.125     , 0.08333333],\n",
              "       [0.05      , 0.05882353, 0.        , 0.17647059, 0.0625    ,\n",
              "        0.16666667, 0.16666667, 0.        , 0.125     , 0.07142857,\n",
              "        0.07142857, 0.21428571, 0.        , 0.        , 0.15384615,\n",
              "        0.07142857, 1.        , 0.07692308, 0.        , 0.        ,\n",
              "        0.08333333, 0.        ],\n",
              "       [0.05263158, 0.05555556, 0.05555556, 0.05882353, 0.06666667,\n",
              "        0.05882353, 0.        , 0.        , 0.06666667, 0.        ,\n",
              "        0.        , 0.        , 0.        , 0.16666667, 0.07692308,\n",
              "        0.1       , 0.07692308, 1.        , 0.        , 0.07142857,\n",
              "        0.42857143, 0.        ],\n",
              "       [0.16666667, 0.17647059, 0.10526316, 0.10526316, 0.0625    ,\n",
              "        0.05263158, 0.06666667, 0.2       , 0.        , 0.        ,\n",
              "        0.13333333, 0.11764706, 0.        , 0.        , 0.0625    ,\n",
              "        0.        , 0.        , 0.        , 1.        , 0.1875    ,\n",
              "        0.        , 0.        ],\n",
              "       [0.10526316, 0.17647059, 0.10526316, 0.05882353, 0.        ,\n",
              "        0.        , 0.23076923, 0.125     , 0.        , 0.125     ,\n",
              "        0.07692308, 0.06666667, 0.        , 0.07692308, 0.14285714,\n",
              "        0.07692308, 0.        , 0.07142857, 0.1875    , 1.        ,\n",
              "        0.07692308, 0.07142857],\n",
              "       [0.        , 0.05882353, 0.11111111, 0.        , 0.        ,\n",
              "        0.        , 0.        , 0.        , 0.14285714, 0.        ,\n",
              "        0.1       , 0.        , 0.        , 0.16666667, 0.08333333,\n",
              "        0.125     , 0.08333333, 0.42857143, 0.        , 0.07692308,\n",
              "        1.        , 0.        ],\n",
              "       [0.11111111, 0.        , 0.05555556, 0.05555556, 0.07692308,\n",
              "        0.16666667, 0.08333333, 0.        , 0.        , 0.33333333,\n",
              "        0.        , 0.07142857, 0.        , 0.        , 0.        ,\n",
              "        0.08333333, 0.        , 0.        , 0.        , 0.07142857,\n",
              "        0.        , 1.        ]])"
            ]
          },
          "metadata": {
            "tags": []
          },
          "execution_count": 18
        }
      ]
    },
    {
      "cell_type": "code",
      "metadata": {
        "id": "z7xJfjybH-ID",
        "outputId": "430e56ff-6526-4dd2-ed63-37ee6454331c",
        "colab": {
          "base_uri": "https://localhost:8080/"
        }
      },
      "source": [
        "pairs = []\n",
        "for i in range(len(df)):\n",
        "    for j in range(i+1, len(df)):\n",
        "        #jaccard = jaccard_matrix[i, j]\n",
        "        #if jaccard > 0:\n",
        "        #    pairs.append([re_vocab[i], re_vocab[j], term_count[re_vocab[i]], term_count[re_vocab[j]], jaccard])\n",
        "        pairs.append([re_vocab[i], re_vocab[j], term_count[re_vocab[i]], term_count[re_vocab[j]], cooccurrence_matrix[i,j]])\n",
        "len(pairs)"
      ],
      "execution_count": 19,
      "outputs": [
        {
          "output_type": "execute_result",
          "data": {
            "text/plain": [
              "231"
            ]
          },
          "metadata": {
            "tags": []
          },
          "execution_count": 19
        }
      ]
    },
    {
      "cell_type": "code",
      "metadata": {
        "id": "BS_NAcuqK-39",
        "outputId": "4692de34-e1a7-4147-8f32-8d273e082800",
        "colab": {
          "base_uri": "https://localhost:8080/",
          "height": 846
        }
      },
      "source": [
        "G = nx.Graph()\n",
        "G.nodes(data=True)\n",
        "\n",
        "for pair in pairs:\n",
        "    node_x, node_y, node_x_cnt, node_y_cnt, jaccard = pair#[0], pair[1], pair[2], pair[3], pair[4]\n",
        "    if not G.has_node(node_x):\n",
        "        G.add_node(node_x, count=node_x_cnt)\n",
        "    if not G.has_node(node_y):\n",
        "        G.add_node(node_y, count=node_y_cnt)\n",
        "    if not G.has_edge(node_x, node_y):\n",
        "        G.add_edge(node_x, node_y, weight=jaccard)\n",
        "    #else:\n",
        "    #    print(pair)\n",
        "        \n",
        "plt.figure(figsize=(15,15))\n",
        "_pos = nx.spring_layout(G, k=None)\n",
        "\n",
        "node_size = [d['count']*20 for (n,d) in G.nodes(data=True)]\n",
        "nx.draw_networkx_nodes(G, _pos, node_color='pink', alpha=1.0, node_size=node_size)\n",
        "nx.draw_networkx_labels(G, _pos)#, fontsize=14, font_family='Droid Sans Japanese')\n",
        "\n",
        "edge_width = [d['weight']*1 for (u,v,d) in G.edges(data=True)]\n",
        "nx.draw_networkx_edges(G, _pos, alpha=0.2, edge_color='black', width=edge_width)\n",
        "\n",
        "plt.axis('off')\n",
        "plt.show()"
      ],
      "execution_count": 31,
      "outputs": [
        {
          "output_type": "display_data",
          "data": {
            "image/png": "[encoded data removed]",
            "text/plain": [
              "<Figure size 1080x1080 with 1 Axes>"
            ]
          },
          "metadata": {
            "tags": []
          }
        }
      ]
    }
  ]
}