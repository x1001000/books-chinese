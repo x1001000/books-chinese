{
  "nbformat": 4,
  "nbformat_minor": 0,
  "metadata": {
    "colab": {
      "name": "CKIP斷詞.ipynb",
      "provenance": [],
      "collapsed_sections": [],
      "authorship_tag": "ABX9TyMTIZC2eO1uOOQtkNfzryVF",
      "include_colab_link": true
    },
    "kernelspec": {
      "name": "python3",
      "display_name": "Python 3"
    }
  },
  "cells": [
    {
      "cell_type": "markdown",
      "metadata": {
        "id": "view-in-github",
        "colab_type": "text"
      },
      "source": [
        "<a href=\"https://colab.research.google.com/github/x1001000/books-chinese-networkx/blob/main/CKIP%E6%96%B7%E8%A9%9E.ipynb\" target=\"_parent\"><img src=\"https://colab.research.google.com/assets/colab-badge.svg\" alt=\"Open In Colab\"/></a>"
      ]
    },
    {
      "cell_type": "markdown",
      "metadata": {
        "id": "YL_fDAjwlOWw"
      },
      "source": [
        "# 將您的 語料.txt 及 詞典.txt 於左側面板上傳後，點 Runtime 的 Run all"
      ]
    },
    {
      "cell_type": "code",
      "metadata": {
        "id": "7FQYLPb9ZUwI"
      },
      "source": [
        "# 安裝套件\n",
        "! pip install ckiptagger"
      ],
      "execution_count": null,
      "outputs": []
    },
    {
      "cell_type": "code",
      "metadata": {
        "id": "dQ1Pt6GsfRUx"
      },
      "source": [
        "# 下載模型\n",
        "from ckiptagger import data_utils\n",
        "data_utils.download_data_gdown(\"./\")"
      ],
      "execution_count": null,
      "outputs": []
    },
    {
      "cell_type": "code",
      "metadata": {
        "id": "83cKJYJTfm1S"
      },
      "source": [
        "# 匯入斷詞、詞性標記、命名實體識別的三個工具\n",
        "from ckiptagger import WS, POS, NER\n",
        "ws = WS(\"./data\")\n",
        "pos = POS(\"./data\")\n",
        "ner = NER(\"./data\")"
      ],
      "execution_count": null,
      "outputs": []
    },
    {
      "cell_type": "code",
      "metadata": {
        "id": "CfnPHhWBhxWE"
      },
      "source": [
        "# 匯入詞典\n",
        "from ckiptagger import construct_dictionary\n",
        "word_to_weight = dict()\n",
        "with open('詞典.txt') as f:\n",
        "    for line in f.readlines():\n",
        "        if line.strip():\n",
        "            word_to_weight[line.strip()] = 1\n",
        "dictionary = construct_dictionary(word_to_weight)"
      ],
      "execution_count": null,
      "outputs": []
    },
    {
      "cell_type": "code",
      "metadata": {
        "id": "Ocmi-4dymthY"
      },
      "source": [
        "# 不用詞典斷詞，於左側面板下載\n",
        "!touch 不用詞典斷詞.txt\n",
        "with open('不用詞典斷詞.txt', 'w') as F:\n",
        "    with open('語料.txt') as f:\n",
        "        for sentence in ws(f.readlines()):\n",
        "            for word in sentence:\n",
        "                F.write(word)\n",
        "                F.write('  ')\n",
        "            F.write('\\n')"
      ],
      "execution_count": null,
      "outputs": []
    },
    {
      "cell_type": "code",
      "metadata": {
        "id": "LRZgSWa2tHQR"
      },
      "source": [
        "# 參考詞典斷詞，於左側面板下載\n",
        "!touch 參考詞典斷詞.txt\n",
        "with open('參考詞典斷詞.txt', 'w') as F:\n",
        "    with open('語料.txt') as f:\n",
        "        for sentence in ws(f.readlines(), recommend_dictionary = dictionary):\n",
        "            for word in sentence:\n",
        "                F.write(word)\n",
        "                F.write('  ')\n",
        "            F.write('\\n')"
      ],
      "execution_count": null,
      "outputs": []
    },
    {
      "cell_type": "code",
      "metadata": {
        "id": "82gWsZtctVhn"
      },
      "source": [
        "# 使用詞典斷詞，於左側面板下載\n",
        "!touch 使用詞典斷詞.txt\n",
        "with open('使用詞典斷詞.txt', 'w') as F:\n",
        "    with open('語料.txt') as f:\n",
        "        for sentence in ws(f.readlines(), coerce_dictionary = dictionary):\n",
        "            for word in sentence:\n",
        "                F.write(word)\n",
        "                F.write('  ')\n",
        "            F.write('\\n')"
      ],
      "execution_count": null,
      "outputs": []
    }
  ]
}